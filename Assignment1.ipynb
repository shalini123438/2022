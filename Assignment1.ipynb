{
 "cells": [
  {
   "cell_type": "code",
   "execution_count": null,
   "id": "320d6080",
   "metadata": {},
   "outputs": [],
   "source": [
    "* -> Expression\n",
    "'hello'-> Values\n",
    "-87.8 -> Values\n",
    "- -> Expression\n",
    "/ -> Expression\n",
    "+  -> Expression\n",
    "6  -> Values    #answer of Q1"
   ]
  },
  {
   "cell_type": "code",
   "execution_count": null,
   "id": "76613988",
   "metadata": {},
   "outputs": [],
   "source": [
    "String is a word or sentence it is immutable. It is surrounded by ' '. we can't \n",
    "change it once will crate it and \n",
    "variable is a way to store the Value and for that value it reserve space in computer to allocate memory.#answer of Q2"
   ]
  },
  {
   "cell_type": "code",
   "execution_count": null,
   "id": "a291c878",
   "metadata": {},
   "outputs": [],
   "source": [
    "String -> String is immutable. we can't \n",
    "change it once will crate it.It is surrounded by ' ' quation. for ex-> s='Shalini'\n",
    "\n",
    "List -> List is an array that hold the collection of items having different or same datatype. \n",
    "              For ex-> l=[1,2,3,4,'abc',8.9]\n",
    "    \n",
    "Touple -> Touple is a collection of item having same or different datatype. it is surrounded by().This is immutable we can't \n",
    "change it once will crate it.for ex-> l=(8,9,7,'8.9',0) #answer of Q3"
   ]
  },
  {
   "cell_type": "code",
   "execution_count": null,
   "id": "d4d320cd",
   "metadata": {},
   "outputs": [],
   "source": [
    "Expression is combination of operand and oparator which produce one output after taking different input.\n",
    "there are various expression exist in python:\n",
    "1. constant expression-> In this expression it hold constant valuese. for ex:- x=9+6\n",
    "2. Airthmatic expression-> it take two numeric value as input and produce a numeric value as output. ex:-a=6,b=10\n",
    "    x=(a+b)\n",
    "3.Integral expression -> it gives interger result as an output. ex:-a=9.0,b=8\n",
    "    c=int(a)+b\n",
    "4. Floating expression -> it gives float result an as output. ex:- c=a/b\n",
    "5. Relational expression -> it takes two input for comparision and gve boolean value as an output. for ex:- p=a>b\n",
    "6. Logical expressions -> it takes two relational expression as an input and produce boolean as an output. for ex:- \n",
    "    p and (a==b)#answer of Q4"
   ]
  },
  {
   "cell_type": "code",
   "execution_count": null,
   "id": "ea98c067",
   "metadata": {},
   "outputs": [],
   "source": [
    "expression is the combination of operator as well as operand. \n",
    "Statement is something which we can also call end of the statement.\n",
    "spam=10 -> assignment statement #answer of Q5"
   ]
  },
  {
   "cell_type": "code",
   "execution_count": 1,
   "id": "e792a925",
   "metadata": {},
   "outputs": [
    {
     "data": {
      "text/plain": [
       "11"
      ]
     },
     "execution_count": 1,
     "metadata": {},
     "output_type": "execute_result"
    }
   ],
   "source": [
    "bacon=10\n",
    "bacon+1  '''ans will be 11''' #answer of Q6"
   ]
  },
  {
   "cell_type": "code",
   "execution_count": null,
   "id": "a5a77d7c",
   "metadata": {},
   "outputs": [],
   "source": [
    "'Spam'+'spamspam'\n",
    "'spam'*3\n",
    "This will raise an error just because of we are not storing this anywhere. #answer of Q7"
   ]
  },
  {
   "cell_type": "code",
   "execution_count": null,
   "id": "98daab2e",
   "metadata": {},
   "outputs": [],
   "source": [
    "Variable are the container of values. so, it can not be values in themselves.and here 100 is a value\n",
    "so we can not use it as a variable whereas eggs is not a value so we can contai values in eggs.#answer of Q8"
   ]
  },
  {
   "cell_type": "code",
   "execution_count": null,
   "id": "4cf9870a",
   "metadata": {},
   "outputs": [],
   "source": [
    "int(), float(), str()#answer of Q9"
   ]
  },
  {
   "cell_type": "code",
   "execution_count": null,
   "id": "8d866596",
   "metadata": {},
   "outputs": [],
   "source": [
    "Beacuse we cant add a string with an integer. we can concat two string or we can add two integer but this is not possible \n",
    "to add an integer with an string.\n",
    "With the help of typeconversion we can fix this issue for ex->'I have eaten'+str(99)+'burritos' \n",
    "now we can execute this because here i converted integer into string. #answer of Q10"
   ]
  }
 ],
 "metadata": {
  "kernelspec": {
   "display_name": "Python 3 (ipykernel)",
   "language": "python",
   "name": "python3"
  },
  "language_info": {
   "codemirror_mode": {
    "name": "ipython",
    "version": 3
   },
   "file_extension": ".py",
   "mimetype": "text/x-python",
   "name": "python",
   "nbconvert_exporter": "python",
   "pygments_lexer": "ipython3",
   "version": "3.9.7"
  }
 },
 "nbformat": 4,
 "nbformat_minor": 5
}
